{
 "cells": [
  {
   "cell_type": "code",
   "execution_count": 1,
   "id": "fa8a6aa8-ac82-454d-a969-458ce24ec8da",
   "metadata": {
    "tags": []
   },
   "outputs": [
    {
     "name": "stdout",
     "output_type": "stream",
     "text": [
      "Defaulting to user installation because normal site-packages is not writeable\n",
      "Requirement already satisfied: scikit-learn in ./.local/lib/python3.11/site-packages (1.7.1)\n",
      "Requirement already satisfied: datasets in ./.local/lib/python3.11/site-packages (4.0.0)\n",
      "Requirement already satisfied: huggingface_hub in ./.local/lib/python3.11/site-packages (0.34.3)\n",
      "Requirement already satisfied: numpy>=1.22.0 in /opt/conda/lib/python3.11/site-packages (from scikit-learn) (1.26.4)\n",
      "Requirement already satisfied: scipy>=1.8.0 in ./.local/lib/python3.11/site-packages (from scikit-learn) (1.16.1)\n",
      "Requirement already satisfied: joblib>=1.2.0 in ./.local/lib/python3.11/site-packages (from scikit-learn) (1.5.1)\n",
      "Requirement already satisfied: threadpoolctl>=3.1.0 in ./.local/lib/python3.11/site-packages (from scikit-learn) (3.6.0)\n",
      "Requirement already satisfied: filelock in ./.local/lib/python3.11/site-packages (from datasets) (3.18.0)\n",
      "Requirement already satisfied: pyarrow>=15.0.0 in ./.local/lib/python3.11/site-packages (from datasets) (21.0.0)\n",
      "Requirement already satisfied: dill<0.3.9,>=0.3.0 in /opt/conda/lib/python3.11/site-packages (from datasets) (0.3.8)\n",
      "Requirement already satisfied: pandas in /opt/conda/lib/python3.11/site-packages (from datasets) (2.2.2)\n",
      "Requirement already satisfied: requests>=2.32.2 in ./.local/lib/python3.11/site-packages (from datasets) (2.32.4)\n",
      "Requirement already satisfied: tqdm>=4.66.3 in ./.local/lib/python3.11/site-packages (from datasets) (4.67.1)\n",
      "Requirement already satisfied: xxhash in ./.local/lib/python3.11/site-packages (from datasets) (3.5.0)\n",
      "Requirement already satisfied: multiprocess<0.70.17 in ./.local/lib/python3.11/site-packages (from datasets) (0.70.16)\n",
      "Requirement already satisfied: fsspec[http]<=2025.3.0,>=2023.1.0 in ./.local/lib/python3.11/site-packages (from datasets) (2025.3.0)\n",
      "Requirement already satisfied: packaging in /opt/conda/lib/python3.11/site-packages (from datasets) (23.1)\n",
      "Requirement already satisfied: pyyaml>=5.1 in /opt/conda/lib/python3.11/site-packages (from datasets) (6.0.1)\n",
      "Requirement already satisfied: typing-extensions>=3.7.4.3 in /opt/conda/lib/python3.11/site-packages (from huggingface_hub) (4.12.2)\n",
      "Requirement already satisfied: hf-xet<2.0.0,>=1.1.3 in ./.local/lib/python3.11/site-packages (from huggingface_hub) (1.1.5)\n",
      "Requirement already satisfied: aiohttp!=4.0.0a0,!=4.0.0a1 in ./.local/lib/python3.11/site-packages (from fsspec[http]<=2025.3.0,>=2023.1.0->datasets) (3.12.15)\n",
      "Requirement already satisfied: charset_normalizer<4,>=2 in /opt/conda/lib/python3.11/site-packages (from requests>=2.32.2->datasets) (2.0.4)\n",
      "Requirement already satisfied: idna<4,>=2.5 in /opt/conda/lib/python3.11/site-packages (from requests>=2.32.2->datasets) (3.4)\n",
      "Requirement already satisfied: urllib3<3,>=1.21.1 in /opt/conda/lib/python3.11/site-packages (from requests>=2.32.2->datasets) (1.26.16)\n",
      "Requirement already satisfied: certifi>=2017.4.17 in /opt/conda/lib/python3.11/site-packages (from requests>=2.32.2->datasets) (2024.6.2)\n",
      "Requirement already satisfied: python-dateutil>=2.8.2 in /opt/conda/lib/python3.11/site-packages (from pandas->datasets) (2.9.0)\n",
      "Requirement already satisfied: pytz>=2020.1 in /opt/conda/lib/python3.11/site-packages (from pandas->datasets) (2024.1)\n",
      "Requirement already satisfied: tzdata>=2022.7 in /opt/conda/lib/python3.11/site-packages (from pandas->datasets) (2024.1)\n",
      "Requirement already satisfied: aiohappyeyeballs>=2.5.0 in ./.local/lib/python3.11/site-packages (from aiohttp!=4.0.0a0,!=4.0.0a1->fsspec[http]<=2025.3.0,>=2023.1.0->datasets) (2.6.1)\n",
      "Requirement already satisfied: aiosignal>=1.4.0 in ./.local/lib/python3.11/site-packages (from aiohttp!=4.0.0a0,!=4.0.0a1->fsspec[http]<=2025.3.0,>=2023.1.0->datasets) (1.4.0)\n",
      "Requirement already satisfied: attrs>=17.3.0 in /opt/conda/lib/python3.11/site-packages (from aiohttp!=4.0.0a0,!=4.0.0a1->fsspec[http]<=2025.3.0,>=2023.1.0->datasets) (23.2.0)\n",
      "Requirement already satisfied: frozenlist>=1.1.1 in ./.local/lib/python3.11/site-packages (from aiohttp!=4.0.0a0,!=4.0.0a1->fsspec[http]<=2025.3.0,>=2023.1.0->datasets) (1.7.0)\n",
      "Requirement already satisfied: multidict<7.0,>=4.5 in ./.local/lib/python3.11/site-packages (from aiohttp!=4.0.0a0,!=4.0.0a1->fsspec[http]<=2025.3.0,>=2023.1.0->datasets) (6.6.3)\n",
      "Requirement already satisfied: propcache>=0.2.0 in ./.local/lib/python3.11/site-packages (from aiohttp!=4.0.0a0,!=4.0.0a1->fsspec[http]<=2025.3.0,>=2023.1.0->datasets) (0.3.2)\n",
      "Requirement already satisfied: yarl<2.0,>=1.17.0 in ./.local/lib/python3.11/site-packages (from aiohttp!=4.0.0a0,!=4.0.0a1->fsspec[http]<=2025.3.0,>=2023.1.0->datasets) (1.20.1)\n",
      "Requirement already satisfied: six>=1.5 in /opt/conda/lib/python3.11/site-packages (from python-dateutil>=2.8.2->pandas->datasets) (1.16.0)\n"
     ]
    }
   ],
   "source": [
    "!pip install scikit-learn datasets huggingface_hub"
   ]
  },
  {
   "cell_type": "code",
   "execution_count": 2,
   "id": "3e9bb377-65a7-4765-8e2b-d406b9c0cd9a",
   "metadata": {
    "tags": []
   },
   "outputs": [],
   "source": [
    "import pandas as pd\n",
    "from sklearn.model_selection import GroupShuffleSplit\n",
    "from datasets import Dataset, DatasetDict\n",
    "import huggingface_hub"
   ]
  },
  {
   "cell_type": "code",
   "execution_count": 3,
   "id": "a747880a-cb9f-4221-ba98-c228f0cf4896",
   "metadata": {
    "tags": []
   },
   "outputs": [
    {
     "name": "stdout",
     "output_type": "stream",
     "text": [
      "Loading the dataset...\n",
      "Dataset loaded successfully.\n",
      "Initial number of entries: 34824\n",
      "Entries after dropping rows with missing essential values: 34824\n",
      "\n",
      "Performing initial split (80% train, 20% temp)...\n",
      "Training set size: 27880 entries\n",
      "Temporary set size: 6944 entries\n",
      "\n",
      "Splitting temporary set into validation and test sets (50/50 split)...\n",
      "Validation set size: 3494 entries\n",
      "Test set size: 3450 entries\n",
      "\n",
      "Verifying that no LemmaID leaks between splits...\n",
      "Verification successful: No lemma leakage detected between the sets.\n",
      "\n",
      "Saving the splits to TSV files...\n",
      "Successfully saved splits to train_split.tsv, validation_split.tsv, and test_split.tsv\n",
      "\n",
      "Partitioning complete.\n",
      "Final sizes: Train=27880, Validation=3494, Test=3450\n"
     ]
    }
   ],
   "source": [
    "# --- 1. Load and Prepare the Dataset ---\n",
    "print(\"Loading the dataset...\")\n",
    "# Load the tab-separated file.\n",
    "try:\n",
    "    df = pd.read_csv(\"definitions_clean.tsv\", sep=\"\\t\", on_bad_lines='skip', quoting=3)\n",
    "    print(\"Dataset loaded successfully.\")\n",
    "except FileNotFoundError:\n",
    "    print(\"Error: definitions_clean.tsv not found. Please ensure the file is in the correct directory.\")\n",
    "    exit()\n",
    "\n",
    "\n",
    "# Define the columns that are essential for the task.\n",
    "\n",
    "required_columns = ['Lemma', 'DefinitionShort', 'DefinitionFull', 'LemmaID', 'MeaningID', 'POS']\n",
    "\n",
    "# Drop rows where any of the essential columns have missing values.\n",
    "# This ensures data quality for training.\n",
    "# This is extra as the data has already been cleaned.\n",
    "print(f\"Initial number of entries: {len(df)}\")\n",
    "df.dropna(subset=required_columns, inplace=True)\n",
    "print(f\"Entries after dropping rows with missing essential values: {len(df)}\")\n",
    "\n",
    "# Ensure ID columns are of integer type for reliable grouping and referencing.\n",
    "# Applying .astype(int) to the whole dataframe would cause an error due to text columns.\n",
    "df[['LemmaID', 'MeaningID']] = df[['LemmaID', 'MeaningID']].astype(int)\n",
    "\n",
    "\n",
    "# --- 2. First Split: Training (80%) and Temporary (20%) ---\n",
    "print(\"\\nPerforming initial split (80% train, 20% temp)...\")\n",
    "# The 'groups' parameter requires a Series or array-like object. The 'LemmaID' column is passed directly.\n",
    "groups = df['LemmaID']\n",
    "\n",
    "# Splitter for creating the main training set and a temporary set for validation/test.\n",
    "# n_splits=1 means this split is performed once. random_state ensures reproducibility.\n",
    "train_test_splitter = GroupShuffleSplit(test_size=0.20, n_splits=1, random_state=42)\n",
    "train_idx, temp_idx = next(train_test_splitter.split(df, groups=groups))\n",
    "\n",
    "train_df = df.iloc[train_idx]\n",
    "temp_df = df.iloc[temp_idx]\n",
    "\n",
    "print(f\"Training set size: {len(train_df)} entries\")\n",
    "print(f\"Temporary set size: {len(temp_df)} entries\")\n",
    "\n",
    "\n",
    "# --- 3. Second Split: Validation (10%) and Test (10%) from Temporary Set ---\n",
    "print(\"\\nSplitting temporary set into validation and test sets (50/50 split)...\")\n",
    "# Now the temporary dataframe is split, using its own LemmaIDs as groups.\n",
    "temp_groups = temp_df['LemmaID']\n",
    "\n",
    "# Splitter for creating the validation and test sets from the temporary set.\n",
    "# A 50% split of the 20% temporary set results in 10% validation and 10% test of the original data.\n",
    "val_test_splitter = GroupShuffleSplit(test_size=0.50, n_splits=1, random_state=42)\n",
    "val_idx, test_idx = next(val_test_splitter.split(temp_df, groups=temp_groups))\n",
    "\n",
    "validation_df = temp_df.iloc[val_idx]\n",
    "test_df = temp_df.iloc[test_idx]\n",
    "\n",
    "print(f\"Validation set size: {len(validation_df)} entries\")\n",
    "print(f\"Test set size: {len(test_df)} entries\")\n",
    "\n",
    "\n",
    "# --- 4. Verification of Data Integrity ---\n",
    "print(\"\\nVerifying that no LemmaID leaks between splits...\")\n",
    "# To verify, sets of the *LemmaID values* from each dataframe must be created, not sets of the dataframes themselves.\n",
    "train_lemmas = set(train_df['LemmaID'])\n",
    "val_lemmas = set(validation_df['LemmaID'])\n",
    "test_lemmas = set(test_df['LemmaID'])\n",
    "\n",
    "# The intersection of any two sets should be zero.\n",
    "assert len(train_lemmas.intersection(val_lemmas)) == 0, \"Leakage detected between train and validation sets!\"\n",
    "assert len(train_lemmas.intersection(test_lemmas)) == 0, \"Leakage detected between train and test sets!\"\n",
    "assert len(val_lemmas.intersection(test_lemmas)) == 0, \"Leakage detected between validation and test sets!\"\n",
    "print(\"Verification successful: No lemma leakage detected between the sets.\")\n",
    "\n",
    "# --- 5. Save Splits to Files ---\n",
    "print(\"\\nSaving the splits to TSV files...\")\n",
    "\n",
    "# Save each dataframe to a tab-separated file.\n",
    "# index=False prevents pandas from writing the dataframe index as a column.\n",
    "train_df.to_csv(\"train_split.tsv\", sep='\\t', index=False)\n",
    "validation_df.to_csv(\"validation_split.tsv\", sep='\\t', index=False)\n",
    "test_df.to_csv(\"test_split.tsv\", sep='\\t', index=False)\n",
    "\n",
    "print(\"Successfully saved splits to train_split.tsv, validation_split.tsv, and test_split.tsv\")\n",
    "\n",
    "# --- 6. Final Output ---\n",
    "print(\"\\nPartitioning complete.\")\n",
    "print(f\"Final sizes: Train={len(train_df)}, Validation={len(validation_df)}, Test={len(test_df)}\")"
   ]
  },
  {
   "cell_type": "code",
   "execution_count": 14,
   "id": "16f13c78-6651-417f-85b4-e3cdc8dd79b7",
   "metadata": {
    "tags": []
   },
   "outputs": [
    {
     "name": "stdout",
     "output_type": "stream",
     "text": [
      "\n",
      "Converting DataFrames to Hugging Face DatasetDict...\n",
      "\n",
      "Created Hugging Face DatasetDict:\n",
      "DatasetDict({\n",
      "    train: Dataset({\n",
      "        features: ['Lemma', 'POS', 'MeaningNumber', 'LemmaID', 'MeaningID', 'DefinitionFull', 'DefinitionShort'],\n",
      "        num_rows: 27880\n",
      "    })\n",
      "    validation: Dataset({\n",
      "        features: ['Lemma', 'POS', 'MeaningNumber', 'LemmaID', 'MeaningID', 'DefinitionFull', 'DefinitionShort'],\n",
      "        num_rows: 3494\n",
      "    })\n",
      "    test: Dataset({\n",
      "        features: ['Lemma', 'POS', 'MeaningNumber', 'LemmaID', 'MeaningID', 'DefinitionFull', 'DefinitionShort'],\n",
      "        num_rows: 3450\n",
      "    })\n",
      "})\n"
     ]
    }
   ],
   "source": [
    "# --- 7. Convert to Hugging Face Datasets format ---\n",
    "print(\"\\nConverting DataFrames to Hugging Face DatasetDict...\")\n",
    "raw_datasets = DatasetDict({\n",
    "    \"train\": Dataset.from_pandas(train_df.reset_index(drop=True)),\n",
    "    \"validation\": Dataset.from_pandas(validation_df.reset_index(drop=True)),\n",
    "    \"test\": Dataset.from_pandas(test_df.reset_index(drop=True))\n",
    "})\n",
    "print(\"\\nCreated Hugging Face DatasetDict:\")\n",
    "print(raw_datasets)"
   ]
  },
  {
   "cell_type": "code",
   "execution_count": 15,
   "id": "c22007b7-6c5a-4e45-b986-0d566ebf416c",
   "metadata": {
    "tags": []
   },
   "outputs": [
    {
     "name": "stdout",
     "output_type": "stream",
     "text": [
      "\n",
      "Uploading dataset to Hugging Face Hub repository: RobbedoesHF/dutch-definitions\n"
     ]
    },
    {
     "data": {
      "application/vnd.jupyter.widget-view+json": {
       "model_id": "4c0cc005e3f3466da3032945a8b46abb",
       "version_major": 2,
       "version_minor": 0
      },
      "text/plain": [
       "Uploading the dataset shards:   0%|          | 0/1 [00:00<?, ? shards/s]"
      ]
     },
     "metadata": {},
     "output_type": "display_data"
    },
    {
     "data": {
      "application/vnd.jupyter.widget-view+json": {
       "model_id": "c6415e446aea40f3bc8c6b75b1370d1b",
       "version_major": 2,
       "version_minor": 0
      },
      "text/plain": [
       "Creating parquet from Arrow format:   0%|          | 0/28 [00:00<?, ?ba/s]"
      ]
     },
     "metadata": {},
     "output_type": "display_data"
    },
    {
     "data": {
      "application/vnd.jupyter.widget-view+json": {
       "model_id": "64da9d08d32d419997e3e57cdb6ad165",
       "version_major": 2,
       "version_minor": 0
      },
      "text/plain": [
       "Uploading the dataset shards:   0%|          | 0/1 [00:00<?, ? shards/s]"
      ]
     },
     "metadata": {},
     "output_type": "display_data"
    },
    {
     "data": {
      "application/vnd.jupyter.widget-view+json": {
       "model_id": "da469ca73fb64d6586c74c54564e4a1c",
       "version_major": 2,
       "version_minor": 0
      },
      "text/plain": [
       "Creating parquet from Arrow format:   0%|          | 0/4 [00:00<?, ?ba/s]"
      ]
     },
     "metadata": {},
     "output_type": "display_data"
    },
    {
     "data": {
      "application/vnd.jupyter.widget-view+json": {
       "model_id": "68e0023bd7064c27bc890f61b6128736",
       "version_major": 2,
       "version_minor": 0
      },
      "text/plain": [
       "Uploading the dataset shards:   0%|          | 0/1 [00:00<?, ? shards/s]"
      ]
     },
     "metadata": {},
     "output_type": "display_data"
    },
    {
     "data": {
      "application/vnd.jupyter.widget-view+json": {
       "model_id": "936c024db6d64ca6bbb7943f3b5ba93c",
       "version_major": 2,
       "version_minor": 0
      },
      "text/plain": [
       "Creating parquet from Arrow format:   0%|          | 0/4 [00:00<?, ?ba/s]"
      ]
     },
     "metadata": {},
     "output_type": "display_data"
    },
    {
     "name": "stdout",
     "output_type": "stream",
     "text": [
      "Upload complete!\n"
     ]
    }
   ],
   "source": [
    "# --- 6. Upload to Hugging Face Hub ---\n",
    "# hf_repo_name = \"my-username/my-awesome-dataset\"\n",
    "# Be logged in. Run `huggingface-cli login` in the terminal first.\n",
    "# Or run python -m huggingface_hub.commands.huggingface_cli login.\n",
    "hf_repo_name = \"RobbedoesHF/dutch-definitions\"\n",
    "\n",
    "if hf_repo_name != \"my-username/my-awesome-dataset\":\n",
    "    print(f\"\\nUploading dataset to Hugging Face Hub repository: {hf_repo_name}\")\n",
    "    try:\n",
    "        raw_datasets.push_to_hub(hf_repo_name)\n",
    "        print(\"Upload complete!\")\n",
    "    except Exception as e:\n",
    "        print(f\"An error occurred during upload: {e}\")\n",
    "        print(\"Make sure I'm logged in (`huggingface-cli login`) and the repository name is correct.\")\n",
    "else:\n",
    "    print(\"\\nSkipping upload. To upload your dataset, edit the `hf_repo_name` variable in the script.\")"
   ]
  },
  {
   "cell_type": "code",
   "execution_count": null,
   "id": "d58c441c-1c97-4e78-845e-3d7275f2c4a7",
   "metadata": {},
   "outputs": [],
   "source": []
  }
 ],
 "metadata": {
  "kernelspec": {
   "display_name": "Python 3 (ipykernel)",
   "language": "python",
   "name": "python3"
  },
  "language_info": {
   "codemirror_mode": {
    "name": "ipython",
    "version": 3
   },
   "file_extension": ".py",
   "mimetype": "text/x-python",
   "name": "python",
   "nbconvert_exporter": "python",
   "pygments_lexer": "ipython3",
   "version": "3.11.9"
  }
 },
 "nbformat": 4,
 "nbformat_minor": 5
}
